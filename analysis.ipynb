{
 "cells": [
  {
   "cell_type": "code",
   "execution_count": 20,
   "metadata": {},
   "outputs": [
    {
     "name": "stdout",
     "output_type": "stream",
     "text": [
      "  투자 대상  총 투자 금액                                              투자 내역\n",
      "0   구도윤     1600  구도윤 : 400, 김강현 : 300, 김대성 : 100, 임도원 : 100, 전해...\n",
      "1   권태희      700                               구도윤 : 300, 임도원 : 400\n",
      "2   김강현     2050  권태희 : 500, 김동우 : 600, 이도형 : 400, 전해성 : 250, 홍길...\n",
      "3   김대성      950                               김강현 : 700, 전해성 : 250\n",
      "4   서진영      800                    김동우 : 200, 이도형 : 300, 전해성 : 300\n",
      "5   이도형      700         구도윤 : 300, 권태희 : 100, 김대성 : 100, 임도원 : 200\n",
      "6   임도원     1000         권태희 : 100, 김대성 : 100, 이도형 : 300, 홍길동 : 500\n",
      "7   전해성     2000         김대성 : 700, 김동우 : 200, 임도원 : 300, 홍길동 : 800\n",
      "8   한민우      300                                          권태희 : 300\n"
     ]
    }
   ],
   "source": [
    "import pandas as pd\n",
    "\n",
    "def read_investment_log(file_path):\n",
    "    investments = []\n",
    "    \n",
    "    with open(file_path, 'r', encoding='utf-8') as file:\n",
    "        for line in file:\n",
    "            parts = line.strip().split(', ')\n",
    "            id_part = parts[0].split(': ')[1]\n",
    "            target_part = parts[1].split(': ')[1]\n",
    "            amount_part = int(parts[2].split(': ')[1])\n",
    "            investments.append({\n",
    "                '투자자': id_part,\n",
    "                '투자 대상': target_part,\n",
    "                '투자 금액': amount_part\n",
    "            })\n",
    "    \n",
    "    return investments\n",
    "\n",
    "def aggregate_investments(investments):\n",
    "    df = pd.DataFrame(investments)\n",
    "    \n",
    "    # 투자 대상별로 총 투자 금액을 구함\n",
    "    total_investment = df.groupby('투자 대상')['투자 금액'].sum().reset_index().rename(columns={'투자 금액': '총 투자 금액'})\n",
    "    \n",
    "    # 각 투자 대상별로 투자자와 투자 금액을 문자열로 연결\n",
    "    investor_details = df.groupby(['투자 대상', '투자자'])['투자 금액'].sum().reset_index()\n",
    "    investor_details['투자 내역'] = investor_details.apply(lambda x: f\"{x['투자자']} : {x['투자 금액']}\", axis=1)\n",
    "    \n",
    "    # 투자 대상별로 투자 내역을 하나의 문자열로 결합\n",
    "    detailed_investment = investor_details.groupby('투자 대상')['투자 내역'].apply(', '.join).reset_index()\n",
    "    \n",
    "    # 총 투자 금액 데이터프레임과 투자 내역 데이터프레임을 병합\n",
    "    result = pd.merge(total_investment, detailed_investment, on='투자 대상')\n",
    "    \n",
    "    return result\n",
    "\n",
    "# 사용 예시\n",
    "file_path = 'investment_log.txt'\n",
    "investments = read_investment_log(file_path)\n",
    "aggregated_investments = aggregate_investments(investments)\n",
    "\n",
    "# 결과 출력\n",
    "print(aggregated_investments)\n"
   ]
  }
 ],
 "metadata": {
  "kernelspec": {
   "display_name": "base",
   "language": "python",
   "name": "python3"
  },
  "language_info": {
   "codemirror_mode": {
    "name": "ipython",
    "version": 3
   },
   "file_extension": ".py",
   "mimetype": "text/x-python",
   "name": "python",
   "nbconvert_exporter": "python",
   "pygments_lexer": "ipython3",
   "version": "3.11.7"
  }
 },
 "nbformat": 4,
 "nbformat_minor": 2
}
