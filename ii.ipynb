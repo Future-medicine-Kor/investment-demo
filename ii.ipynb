{
 "cells": [
  {
   "cell_type": "code",
   "execution_count": null,
   "metadata": {},
   "outputs": [],
   "source": [
    "# openai api 사용\n",
    "import openai\n",
    "import os\n",
    "import json\n",
    "\n",
    "# 프롬프트 입력받아서 응답 생성\n",
    "def get_response(prompt):\n",
    "    response = openai.Completion.create(\n",
    "        engine=\"gpt-4o-mini\",\n",
    "        prompt=prompt,\n",
    "        max_tokens=100\n",
    "    )\n",
    "    return response.choices[0].text.strip()\n"
   ]
  }
 ],
 "metadata": {
  "language_info": {
   "name": "python"
  }
 },
 "nbformat": 4,
 "nbformat_minor": 2
}
